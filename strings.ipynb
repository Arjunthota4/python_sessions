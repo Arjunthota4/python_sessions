{
 "cells": [
  {
   "cell_type": "code",
   "execution_count": 1,
   "id": "15db855d",
   "metadata": {},
   "outputs": [],
   "source": [
    "#strings\n",
    "#list\n",
    "#dictionary\n",
    "#tuple\n",
    "#set"
   ]
  },
  {
   "cell_type": "markdown",
   "id": "fc3b7c77",
   "metadata": {},
   "source": [
    "# how to read the string"
   ]
  },
  {
   "cell_type": "code",
   "execution_count": 2,
   "id": "7e1b186a",
   "metadata": {},
   "outputs": [
    {
     "data": {
      "text/plain": [
       "'python'"
      ]
     },
     "execution_count": 2,
     "metadata": {},
     "output_type": "execute_result"
    }
   ],
   "source": [
    "#single quotes"
   ]
  },
  {
   "cell_type": "code",
   "execution_count": null,
   "id": "9100b60f",
   "metadata": {},
   "outputs": [],
   "source": [
    "#double quotes\n",
    "\"python\""
   ]
  },
  {
   "cell_type": "code",
   "execution_count": 4,
   "id": "7afa85f1",
   "metadata": {},
   "outputs": [
    {
     "data": {
      "text/plain": [
       "' hello python'"
      ]
     },
     "execution_count": 4,
     "metadata": {},
     "output_type": "execute_result"
    }
   ],
   "source": [
    "\" hello python\"  # want to highlight python"
   ]
  },
  {
   "cell_type": "code",
   "execution_count": 8,
   "id": "32d1e9c0",
   "metadata": {},
   "outputs": [
    {
     "name": "stdout",
     "output_type": "stream",
     "text": [
      "hello 'python'\n"
     ]
    }
   ],
   "source": [
    "string1=\"hello 'python'\"\n",
    "print(string1)"
   ]
  },
  {
   "cell_type": "markdown",
   "id": "5d65442e",
   "metadata": {},
   "source": [
    "- type\n",
    "- len\n",
    "- max\n",
    "- min\n",
    "\n"
   ]
  },
  {
   "cell_type": "code",
   "execution_count": 10,
   "id": "e26ad627",
   "metadata": {},
   "outputs": [
    {
     "data": {
      "text/plain": [
       "str"
      ]
     },
     "execution_count": 10,
     "metadata": {},
     "output_type": "execute_result"
    }
   ],
   "source": [
    "type(string1)"
   ]
  },
  {
   "cell_type": "code",
   "execution_count": 11,
   "id": "55195e95",
   "metadata": {},
   "outputs": [
    {
     "data": {
      "text/plain": [
       "14"
      ]
     },
     "execution_count": 11,
     "metadata": {},
     "output_type": "execute_result"
    }
   ],
   "source": [
    "len(string1)"
   ]
  },
  {
   "cell_type": "code",
   "execution_count": 12,
   "id": "7f076459",
   "metadata": {},
   "outputs": [
    {
     "data": {
      "text/plain": [
       "'y'"
      ]
     },
     "execution_count": 12,
     "metadata": {},
     "output_type": "execute_result"
    }
   ],
   "source": [
    "max(string1)"
   ]
  },
  {
   "cell_type": "code",
   "execution_count": 13,
   "id": "9635fe46",
   "metadata": {},
   "outputs": [
    {
     "data": {
      "text/plain": [
       "' '"
      ]
     },
     "execution_count": 13,
     "metadata": {},
     "output_type": "execute_result"
    }
   ],
   "source": [
    "min(string1)"
   ]
  },
  {
   "cell_type": "markdown",
   "id": "c14e6691",
   "metadata": {},
   "source": [
    "- ord-chr"
   ]
  },
  {
   "cell_type": "code",
   "execution_count": 14,
   "id": "85458b2e",
   "metadata": {},
   "outputs": [
    {
     "data": {
      "text/plain": [
       "103"
      ]
     },
     "execution_count": 14,
     "metadata": {},
     "output_type": "execute_result"
    }
   ],
   "source": [
    "ord('g')  #use to find order"
   ]
  },
  {
   "cell_type": "code",
   "execution_count": 16,
   "id": "95ae5ac1",
   "metadata": {},
   "outputs": [
    {
     "data": {
      "text/plain": [
       "'g'"
      ]
     },
     "execution_count": 16,
     "metadata": {},
     "output_type": "execute_result"
    }
   ],
   "source": [
    "chr(103) #use to find charc"
   ]
  },
  {
   "cell_type": "markdown",
   "id": "5e55a8e2",
   "metadata": {},
   "source": [
    "- in"
   ]
  },
  {
   "cell_type": "code",
   "execution_count": 22,
   "id": "bc931836",
   "metadata": {},
   "outputs": [
    {
     "data": {
      "text/plain": [
       "True"
      ]
     },
     "execution_count": 22,
     "metadata": {},
     "output_type": "execute_result"
    }
   ],
   "source": [
    "string1=\"python\"\n",
    "'p' in string1\n",
    "'y' in string1"
   ]
  },
  {
   "cell_type": "code",
   "execution_count": 20,
   "id": "14080b16",
   "metadata": {},
   "outputs": [
    {
     "name": "stdout",
     "output_type": "stream",
     "text": [
      "p\n",
      "y\n",
      "t\n",
      "h\n",
      "o\n",
      "n\n"
     ]
    }
   ],
   "source": [
    "for i in string1:\n",
    "    print(i)"
   ]
  },
  {
   "cell_type": "markdown",
   "id": "27a7fbfc",
   "metadata": {},
   "source": [
    "- range-is used for numbers inside\n",
    "- in-is used only strings"
   ]
  },
  {
   "cell_type": "code",
   "execution_count": 27,
   "id": "eb0a0cf0",
   "metadata": {},
   "outputs": [
    {
     "name": "stdout",
     "output_type": "stream",
     "text": [
      "the ASCII value of A is 65\n",
      "the ASCII value of B is 66\n",
      "the ASCII value of C is 67\n",
      "the ASCII value of D is 68\n",
      "the ASCII value of E is 69\n",
      "the ASCII value of F is 70\n",
      "the ASCII value of G is 71\n",
      "the ASCII value of H is 72\n",
      "the ASCII value of I is 73\n",
      "the ASCII value of J is 74\n",
      "the ASCII value of K is 75\n",
      "the ASCII value of L is 76\n",
      "the ASCII value of M is 77\n",
      "the ASCII value of N is 78\n",
      "the ASCII value of O is 79\n",
      "the ASCII value of P is 80\n",
      "the ASCII value of Q is 81\n",
      "the ASCII value of R is 82\n",
      "the ASCII value of S is 83\n",
      "the ASCII value of T is 84\n",
      "the ASCII value of U is 85\n",
      "the ASCII value of V is 86\n",
      "the ASCII value of W is 87\n",
      "the ASCII value of X is 88\n",
      "the ASCII value of Y is 89\n",
      "the ASCII value of Z is 90\n"
     ]
    }
   ],
   "source": [
    "string2='ABCDEFGHIJKLMNOPQRSTUVWXYZ'\n",
    "for i in string2:\n",
    "    print(\"the ASCII value of {} is {}\".format(i,ord(i)))"
   ]
  },
  {
   "cell_type": "code",
   "execution_count": 34,
   "id": "36726efa",
   "metadata": {},
   "outputs": [
    {
     "name": "stdout",
     "output_type": "stream",
     "text": [
      "the ascii value of A is 65\n",
      "the ascii value of B is 66\n",
      "the ascii value of C is 67\n",
      "the ascii value of D is 68\n",
      "the ascii value of E is 69\n",
      "the ascii value of F is 70\n",
      "the ascii value of G is 71\n",
      "the ascii value of H is 72\n",
      "the ascii value of I is 73\n",
      "the ascii value of J is 74\n",
      "the ascii value of K is 75\n",
      "the ascii value of L is 76\n",
      "the ascii value of M is 77\n",
      "the ascii value of N is 78\n",
      "the ascii value of O is 79\n",
      "the ascii value of P is 80\n",
      "the ascii value of Q is 81\n",
      "the ascii value of R is 82\n",
      "the ascii value of S is 83\n",
      "the ascii value of T is 84\n",
      "the ascii value of U is 85\n",
      "the ascii value of V is 86\n",
      "the ascii value of W is 87\n",
      "the ascii value of X is 88\n",
      "the ascii value of Y is 89\n",
      "the ascii value of Z is 90\n"
     ]
    }
   ],
   "source": [
    "for i in string.ascii_uppercase:\n",
    "    print(\"the ascii value of {} is {}\".format(i,ord(i)))"
   ]
  },
  {
   "cell_type": "code",
   "execution_count": 38,
   "id": "3f16c8f5",
   "metadata": {},
   "outputs": [
    {
     "name": "stdout",
     "output_type": "stream",
     "text": [
      "3\n"
     ]
    }
   ],
   "source": [
    "#wap ask user find number of 'a' letters in a given string\n",
    "#string='hai how are you and how do you do'\n",
    "count=0\n",
    "string='hai how are you and how do you do'\n",
    "for i in string:\n",
    "    if \"a\" in i:\n",
    "        count=count+1\n",
    "print(count)"
   ]
  },
  {
   "cell_type": "code",
   "execution_count": 45,
   "id": "be37ece4",
   "metadata": {},
   "outputs": [
    {
     "name": "stdout",
     "output_type": "stream",
     "text": [
      "7\n"
     ]
    }
   ],
   "source": [
    "#wap ask user to count the number of vowels in a given string\n",
    "#string='hai how are you'\n",
    "count=0\n",
    "string='hai how are you'\n",
    "for i in string:\n",
    "    if i in \"aeiou\":\n",
    "        count=count+1\n",
    "print(count)"
   ]
  },
  {
   "cell_type": "code",
   "execution_count": null,
   "id": "6ece8fb2",
   "metadata": {},
   "outputs": [],
   "source": [
    "#wap to count the number of unique vowels in above string\n",
    "string=' '\n",
    "string='hai how are you'\n"
   ]
  },
  {
   "cell_type": "markdown",
   "id": "d842c935",
   "metadata": {},
   "source": [
    "- index"
   ]
  },
  {
   "cell_type": "code",
   "execution_count": 49,
   "id": "2730943f",
   "metadata": {},
   "outputs": [
    {
     "data": {
      "text/plain": [
       "('p', 'y', 'h')"
      ]
     },
     "execution_count": 49,
     "metadata": {},
     "output_type": "execute_result"
    }
   ],
   "source": [
    "string1='python'\n",
    "string1[0],string1[1],string[4]"
   ]
  },
  {
   "cell_type": "code",
   "execution_count": 8,
   "id": "4ec496dc",
   "metadata": {},
   "outputs": [],
   "source": [
    "string1=\"python\"\n",
    "#i want to print the letters using for loop\n",
    "#in\n",
    "#range"
   ]
  },
  {
   "cell_type": "code",
   "execution_count": 9,
   "id": "14128429",
   "metadata": {},
   "outputs": [
    {
     "name": "stdout",
     "output_type": "stream",
     "text": [
      "p y t h o n the index of p is 0\n",
      "the index of y is 1\n",
      "the index of t is 2\n",
      "the index of h is 3\n",
      "the index of o is 4\n",
      "the index of n is 5\n"
     ]
    }
   ],
   "source": [
    "for i in string1:\n",
    "    print(i,end=' ')\n",
    "\n",
    "for i in range(len(string1)):\n",
    "    print(\"the index of {} is {}\".format(string1[i],i))"
   ]
  },
  {
   "cell_type": "code",
   "execution_count": null,
   "id": "66753494",
   "metadata": {},
   "outputs": [],
   "source": [
    "\n",
    "-6 -5  -4  -3   -2  -1\n",
    "p   y   t   h   o   n\n",
    "0   1   2   3   4   5"
   ]
  },
  {
   "cell_type": "code",
   "execution_count": 10,
   "id": "274c177b",
   "metadata": {},
   "outputs": [
    {
     "data": {
      "text/plain": [
       "'p'"
      ]
     },
     "execution_count": 10,
     "metadata": {},
     "output_type": "execute_result"
    }
   ],
   "source": [
    "string1[0]"
   ]
  },
  {
   "cell_type": "code",
   "execution_count": 13,
   "id": "00db7753",
   "metadata": {},
   "outputs": [
    {
     "data": {
      "text/plain": [
       "('p', 'y', 't')"
      ]
     },
     "execution_count": 13,
     "metadata": {},
     "output_type": "execute_result"
    }
   ],
   "source": [
    "string1[-6],string1[-5],string1[-4]"
   ]
  },
  {
   "cell_type": "code",
   "execution_count": 14,
   "id": "e47a787b",
   "metadata": {},
   "outputs": [
    {
     "name": "stdout",
     "output_type": "stream",
     "text": [
      "the negative index of p is -6\n",
      "the negative index of y is -5\n",
      "the negative index of t is -4\n",
      "the negative index of h is -3\n",
      "the negative index of o is -2\n",
      "the negative index of n is -1\n"
     ]
    }
   ],
   "source": [
    "for i in range(-6,0):\n",
    "    print(\"the negative index of {} is {}\".format(string1[i],i))"
   ]
  },
  {
   "cell_type": "code",
   "execution_count": 18,
   "id": "cce391b7",
   "metadata": {},
   "outputs": [
    {
     "name": "stdout",
     "output_type": "stream",
     "text": [
      "the positive index of p is 0\n",
      "the positive index of y is 1\n",
      "the positive index of t is 2\n",
      "the positive index of h is 3\n",
      "the positive index of o is 4\n",
      "the positive index of n is 5\n"
     ]
    }
   ],
   "source": [
    "for i in range(0,6):\n",
    "    print(\"the positive index of {} is {}\".format(string1[i],i))"
   ]
  },
  {
   "cell_type": "code",
   "execution_count": 20,
   "id": "58f278b7",
   "metadata": {},
   "outputs": [
    {
     "ename": "SyntaxError",
     "evalue": "invalid syntax (990700324.py, line 1)",
     "output_type": "error",
     "traceback": [
      "\u001b[1;36m  Cell \u001b[1;32mIn[20], line 1\u001b[1;36m\u001b[0m\n\u001b[1;33m    for in\u001b[0m\n\u001b[1;37m        ^\u001b[0m\n\u001b[1;31mSyntaxError\u001b[0m\u001b[1;31m:\u001b[0m invalid syntax\n"
     ]
    }
   ],
   "source": [
    "p y t h o n\n",
    "l 2 3 4 5 6"
   ]
  },
  {
   "cell_type": "code",
   "execution_count": 23,
   "id": "4a17bb9a",
   "metadata": {},
   "outputs": [
    {
     "data": {
      "text/plain": [
       "'o'"
      ]
     },
     "execution_count": 23,
     "metadata": {},
     "output_type": "execute_result"
    }
   ],
   "source": [
    "string1[4]"
   ]
  },
  {
   "cell_type": "markdown",
   "id": "f82c57a0",
   "metadata": {},
   "source": [
    "- slice"
   ]
  },
  {
   "cell_type": "code",
   "execution_count": null,
   "id": "4e302af9",
   "metadata": {},
   "outputs": [],
   "source": [
    "h  a  i     h  o  w     a  r  e  y  o  u\n",
    "0  1  2  3  4  5  6  7  8  9 10  11 12 13"
   ]
  },
  {
   "cell_type": "code",
   "execution_count": 25,
   "id": "b5345202",
   "metadata": {},
   "outputs": [
    {
     "data": {
      "text/plain": [
       "'i how are'"
      ]
     },
     "execution_count": 25,
     "metadata": {},
     "output_type": "execute_result"
    }
   ],
   "source": [
    "string1='hai how are you'\n",
    "string1[2:11]"
   ]
  },
  {
   "cell_type": "code",
   "execution_count": 26,
   "id": "c206a068",
   "metadata": {},
   "outputs": [
    {
     "data": {
      "text/plain": [
       "'ioa'"
      ]
     },
     "execution_count": 26,
     "metadata": {},
     "output_type": "execute_result"
    }
   ],
   "source": [
    "string1='hai how are you'\n",
    "string1[2:11:3]"
   ]
  },
  {
   "cell_type": "code",
   "execution_count": 2,
   "id": "a488799f",
   "metadata": {},
   "outputs": [
    {
     "ename": "NameError",
     "evalue": "name 'string1' is not defined",
     "output_type": "error",
     "traceback": [
      "\u001b[1;31m---------------------------------------------------------------------------\u001b[0m",
      "\u001b[1;31mNameError\u001b[0m                                 Traceback (most recent call last)",
      "Cell \u001b[1;32mIn[2], line 1\u001b[0m\n\u001b[1;32m----> 1\u001b[0m string1[:]\n",
      "\u001b[1;31mNameError\u001b[0m: name 'string1' is not defined"
     ]
    }
   ],
   "source": [
    "string1[:]"
   ]
  },
  {
   "cell_type": "code",
   "execution_count": 4,
   "id": "6933c4dd",
   "metadata": {},
   "outputs": [
    {
     "data": {
      "text/plain": [
       "2"
      ]
     },
     "execution_count": 4,
     "metadata": {},
     "output_type": "execute_result"
    }
   ],
   "source": [
    "string1='hai how are you'\n",
    "string1.count('a')"
   ]
  },
  {
   "cell_type": "code",
   "execution_count": 6,
   "id": "caee42c0",
   "metadata": {},
   "outputs": [
    {
     "data": {
      "text/plain": [
       "4"
      ]
     },
     "execution_count": 6,
     "metadata": {},
     "output_type": "execute_result"
    }
   ],
   "source": [
    "string1='hai hai hai hai'\n",
    "string1.count('hai')"
   ]
  },
  {
   "cell_type": "code",
   "execution_count": 9,
   "id": "2fc806f8",
   "metadata": {},
   "outputs": [
    {
     "name": "stdout",
     "output_type": "stream",
     "text": [
      "3\n",
      "2\n"
     ]
    }
   ],
   "source": [
    "string1='hai hai hai hai'    #h a i h a i h a i h a i\n",
    "print(string1.count('a',4))   1 2 3 4 5 6 7 8 9 101112\n",
    "print(string1.count('a',6))"
   ]
  },
  {
   "cell_type": "markdown",
   "id": "d7ac545f",
   "metadata": {},
   "source": [
    " $replace$"
   ]
  },
  {
   "cell_type": "code",
   "execution_count": 14,
   "id": "90685823",
   "metadata": {},
   "outputs": [
    {
     "data": {
      "text/plain": [
       "'weLLLLLLLLcome'"
      ]
     },
     "execution_count": 14,
     "metadata": {},
     "output_type": "execute_result"
    }
   ],
   "source": [
    "string1='welcome'\n",
    "string1.replace('l','LLLLLLLL')"
   ]
  },
  {
   "cell_type": "code",
   "execution_count": 18,
   "id": "7c372b9c",
   "metadata": {},
   "outputs": [
    {
     "data": {
      "text/plain": [
       "'w$lcom$$ee'"
      ]
     },
     "execution_count": 18,
     "metadata": {},
     "output_type": "execute_result"
    }
   ],
   "source": [
    "string1='welcomeeee'\n",
    "string1.replace('e','$',3)"
   ]
  },
  {
   "cell_type": "code",
   "execution_count": 19,
   "id": "454eb1af",
   "metadata": {},
   "outputs": [
    {
     "data": {
      "text/plain": [
       "'w$lcom$$$$'"
      ]
     },
     "execution_count": 19,
     "metadata": {},
     "output_type": "execute_result"
    }
   ],
   "source": [
    "string1='welcomeeee'\n",
    "string1.replace('e','$',-1)  #-1 we get all"
   ]
  },
  {
   "cell_type": "code",
   "execution_count": 22,
   "id": "877efda0",
   "metadata": {},
   "outputs": [
    {
     "name": "stdout",
     "output_type": "stream",
     "text": [
      "$esta$t\n",
      "resta$t\n"
     ]
    }
   ],
   "source": [
    "string1='restart'\n",
    "x=string1.replace('r','$',-1)\n",
    "print(x)\n",
    "y=x.replace('$','r',1)\n",
    "print(y)"
   ]
  },
  {
   "cell_type": "code",
   "execution_count": 26,
   "id": "b53640b1",
   "metadata": {},
   "outputs": [
    {
     "data": {
      "text/plain": [
       "8"
      ]
     },
     "execution_count": 26,
     "metadata": {},
     "output_type": "execute_result"
    }
   ],
   "source": [
    "string1='welcome python'\n",
    "string1.index('p')"
   ]
  },
  {
   "cell_type": "code",
   "execution_count": 41,
   "id": "5c3085af",
   "metadata": {},
   "outputs": [
    {
     "name": "stdout",
     "output_type": "stream",
     "text": [
      "1\n",
      "6\n"
     ]
    }
   ],
   "source": [
    "string1='welcome python'\n",
    "print(string1.index('e'))\n",
    "print(string1.index('e',2))"
   ]
  },
  {
   "cell_type": "code",
   "execution_count": 46,
   "id": "b5c40a68",
   "metadata": {},
   "outputs": [
    {
     "name": "stdout",
     "output_type": "stream",
     "text": [
      "-1\n"
     ]
    },
    {
     "ename": "ValueError",
     "evalue": "substring not found",
     "output_type": "error",
     "traceback": [
      "\u001b[1;31m---------------------------------------------------------------------------\u001b[0m",
      "\u001b[1;31mValueError\u001b[0m                                Traceback (most recent call last)",
      "Cell \u001b[1;32mIn[46], line 3\u001b[0m\n\u001b[0;32m      1\u001b[0m string1\u001b[38;5;241m=\u001b[39m\u001b[38;5;124m'\u001b[39m\u001b[38;5;124mhai hai\u001b[39m\u001b[38;5;124m'\u001b[39m\n\u001b[0;32m      2\u001b[0m \u001b[38;5;28mprint\u001b[39m(string1\u001b[38;5;241m.\u001b[39mfind(\u001b[38;5;124m'\u001b[39m\u001b[38;5;124mz\u001b[39m\u001b[38;5;124m'\u001b[39m))\n\u001b[1;32m----> 3\u001b[0m \u001b[38;5;28mprint\u001b[39m(string1\u001b[38;5;241m.\u001b[39mindex(\u001b[38;5;124m'\u001b[39m\u001b[38;5;124mz\u001b[39m\u001b[38;5;124m'\u001b[39m))\n\u001b[0;32m      4\u001b[0m \u001b[38;5;28mprint\u001b[39m(string1\u001b[38;5;241m.\u001b[39mcount(\u001b[38;5;124m'\u001b[39m\u001b[38;5;124mz\u001b[39m\u001b[38;5;124m'\u001b[39m))\n",
      "\u001b[1;31mValueError\u001b[0m: substring not found"
     ]
    }
   ],
   "source": [
    "string1='hai hai'\n",
    "print(string1.find('z'))\n",
    "print(string1.index('z'))\n",
    "print(string1.count('z'))"
   ]
  },
  {
   "cell_type": "markdown",
   "id": "3e3884c9",
   "metadata": {},
   "source": [
    "$strip$\n",
    "-used to remove spaces"
   ]
  },
  {
   "cell_type": "code",
   "execution_count": 7,
   "id": "50ba313e",
   "metadata": {},
   "outputs": [
    {
     "name": "stdout",
     "output_type": "stream",
     "text": [
      "hai how are you\n"
     ]
    }
   ],
   "source": [
    "str1='    hai how are you'\n",
    "str2='hai how are you'\n",
    "str3='hai how are you '\n",
    "print(str1.strip())"
   ]
  },
  {
   "cell_type": "code",
   "execution_count": 38,
   "id": "5a74067a",
   "metadata": {},
   "outputs": [
    {
     "name": "stdout",
     "output_type": "stream",
     "text": [
      "python\n",
      "anaconda\n",
      "nareshit\n"
     ]
    }
   ],
   "source": [
    "str1='python.anaconda@nareshit.com'\n",
    "first=str1[0:str1.find(\".\")]\n",
    "print(first)\n",
    "second=str1[str1.find(\".\")+1:str1.find(\"@\")]\n",
    "print(second)\n",
    "third=str1[str1.find(\"@\")+1:str1.find(\".\",str1.find(\".\")+1)]\n",
    "print(third)"
   ]
  },
  {
   "cell_type": "code",
   "execution_count": 36,
   "id": "317a5430",
   "metadata": {},
   "outputs": [
    {
     "name": "stdout",
     "output_type": "stream",
     "text": [
      "3\n",
      "1489\n"
     ]
    }
   ],
   "source": [
    "str1='3.1489'\n",
    "x=str1[0:str1.find(\".\")]\n",
    "y=str1[str1.find(\".\")+1:]\n",
    "print(x)\n",
    "print(y)"
   ]
  },
  {
   "cell_type": "markdown",
   "id": "4e982499",
   "metadata": {},
   "source": [
    "# startswitch-endswitch"
   ]
  },
  {
   "cell_type": "code",
   "execution_count": 44,
   "id": "e4fcf215",
   "metadata": {},
   "outputs": [
    {
     "data": {
      "text/plain": [
       "True"
      ]
     },
     "execution_count": 44,
     "metadata": {},
     "output_type": "execute_result"
    }
   ],
   "source": [
    "str1='hai how are you'\n",
    "str1.startswith('hai')\n",
    "str1.endswith('you')"
   ]
  },
  {
   "cell_type": "markdown",
   "id": "77f06180",
   "metadata": {},
   "source": [
    "# split"
   ]
  },
  {
   "cell_type": "code",
   "execution_count": 47,
   "id": "4ec507cf",
   "metadata": {},
   "outputs": [
    {
     "data": {
      "text/plain": [
       "['hai', 'how', 'are', 'you']"
      ]
     },
     "execution_count": 47,
     "metadata": {},
     "output_type": "execute_result"
    }
   ],
   "source": [
    "str1='hai how are you'\n",
    "str1.split()"
   ]
  },
  {
   "cell_type": "code",
   "execution_count": 48,
   "id": "928439c2",
   "metadata": {},
   "outputs": [
    {
     "data": {
      "text/plain": [
       "['h', 'i how ', 're you']"
      ]
     },
     "execution_count": 48,
     "metadata": {},
     "output_type": "execute_result"
    }
   ],
   "source": [
    "str1='hai how are you'\n",
    "str1.split('a')"
   ]
  },
  {
   "cell_type": "code",
   "execution_count": 55,
   "id": "660356ec",
   "metadata": {},
   "outputs": [
    {
     "data": {
      "text/plain": [
       "'hai'"
      ]
     },
     "execution_count": 55,
     "metadata": {},
     "output_type": "execute_result"
    }
   ],
   "source": [
    "str1='%%%%%hai%%%%'\n",
    "str1.strip(\"%\")"
   ]
  },
  {
   "cell_type": "markdown",
   "id": "251838db",
   "metadata": {},
   "source": [
    "# list"
   ]
  },
  {
   "cell_type": "code",
   "execution_count": 5,
   "id": "f6083f32",
   "metadata": {},
   "outputs": [
    {
     "data": {
      "text/plain": [
       "list"
      ]
     },
     "execution_count": 5,
     "metadata": {},
     "output_type": "execute_result"
    }
   ],
   "source": [
    "list1=[1,2,3,4]\n",
    "type(list1)"
   ]
  },
  {
   "cell_type": "code",
   "execution_count": 6,
   "id": "fbb59fd0",
   "metadata": {},
   "outputs": [
    {
     "data": {
      "text/plain": [
       "4"
      ]
     },
     "execution_count": 6,
     "metadata": {},
     "output_type": "execute_result"
    }
   ],
   "source": [
    "max(list1)"
   ]
  },
  {
   "cell_type": "code",
   "execution_count": 8,
   "id": "45bdb6b5",
   "metadata": {},
   "outputs": [
    {
     "data": {
      "text/plain": [
       "list"
      ]
     },
     "execution_count": 8,
     "metadata": {},
     "output_type": "execute_result"
    }
   ],
   "source": [
    "list2=[2,5,3,7,7,8]\n",
    "type(list2)"
   ]
  },
  {
   "cell_type": "markdown",
   "id": "107e653a",
   "metadata": {},
   "source": [
    "# concatenation"
   ]
  },
  {
   "cell_type": "code",
   "execution_count": 7,
   "id": "adeea5ca",
   "metadata": {},
   "outputs": [
    {
     "data": {
      "text/plain": [
       "[1, 2, 3, 4]"
      ]
     },
     "execution_count": 7,
     "metadata": {},
     "output_type": "execute_result"
    }
   ],
   "source": [
    "list1"
   ]
  },
  {
   "cell_type": "code",
   "execution_count": 9,
   "id": "5ca284ef",
   "metadata": {},
   "outputs": [
    {
     "data": {
      "text/plain": [
       "[2, 5, 3, 7, 7, 8]"
      ]
     },
     "execution_count": 9,
     "metadata": {},
     "output_type": "execute_result"
    }
   ],
   "source": [
    "list2"
   ]
  },
  {
   "cell_type": "code",
   "execution_count": 10,
   "id": "bb7762f3",
   "metadata": {},
   "outputs": [
    {
     "name": "stdout",
     "output_type": "stream",
     "text": [
      "[1, 2, 3, 4, 2, 5, 3, 7, 7, 8]\n"
     ]
    }
   ],
   "source": [
    "print(list1+list2)"
   ]
  },
  {
   "cell_type": "code",
   "execution_count": 12,
   "id": "647a2e42",
   "metadata": {},
   "outputs": [
    {
     "name": "stdout",
     "output_type": "stream",
     "text": [
      "[2, 5, 3, 7, 7, 8, 1, 2, 3, 4]\n"
     ]
    }
   ],
   "source": [
    "print(list2+list1)"
   ]
  },
  {
   "cell_type": "code",
   "execution_count": 17,
   "id": "e8181f01",
   "metadata": {},
   "outputs": [
    {
     "name": "stdout",
     "output_type": "stream",
     "text": [
      "cat\n",
      "ab\n",
      "gb\n"
     ]
    }
   ],
   "source": [
    "#wap find the elements which are having len<3\n",
    "# list=['apple','ball','cat','ab','gd']\n",
    "list1=['apple','ball','cat','ab','gb']\n",
    "for i in list1:\n",
    "    if len(i)<4:\n",
    "        print(i)"
   ]
  },
  {
   "cell_type": "code",
   "execution_count": 16,
   "id": "289326c1",
   "metadata": {},
   "outputs": [
    {
     "name": "stdout",
     "output_type": "stream",
     "text": [
      "app#e\n",
      "c#t\n",
      "##\n",
      "g#\n"
     ]
    }
   ],
   "source": [
    "#wap find the elements which are having # symbol\n",
    "# list=['app#e','ball','c#t','##','g#']\n",
    "list1=['app#e','ball','c#t','##','g#']\n",
    "for i in list1:\n",
    "    if '#' in i:\n",
    "        print(i)"
   ]
  },
  {
   "cell_type": "code",
   "execution_count": 18,
   "id": "e5b6518f",
   "metadata": {},
   "outputs": [
    {
     "data": {
      "text/plain": [
       "'ball'"
      ]
     },
     "execution_count": 18,
     "metadata": {},
     "output_type": "execute_result"
    }
   ],
   "source": [
    "list1=[1,2,4,['apple','ball']]   #retrive the ball\n",
    "list1[3][1]"
   ]
  },
  {
   "cell_type": "code",
   "execution_count": 27,
   "id": "fe0d1993",
   "metadata": {},
   "outputs": [
    {
     "data": {
      "text/plain": [
       "'cherry'"
      ]
     },
     "execution_count": 27,
     "metadata": {},
     "output_type": "execute_result"
    }
   ],
   "source": [
    "list2=[[[[[[['cherry']]]]]]]\n",
    "list2[0][0][0][0][0][0][0]"
   ]
  },
  {
   "cell_type": "code",
   "execution_count": null,
   "id": "d81883ec",
   "metadata": {},
   "outputs": [],
   "source": [
    "list3=[[[['a','b',[[[1,2,3,['car']]]]]]]]  #retrive the car\n",
    "list3[0][0][0][1][2]\n"
   ]
  },
  {
   "cell_type": "markdown",
   "id": "8546d127",
   "metadata": {},
   "source": [
    "# mutabel"
   ]
  },
  {
   "cell_type": "code",
   "execution_count": 28,
   "id": "9a057a94",
   "metadata": {},
   "outputs": [
    {
     "ename": "TypeError",
     "evalue": "'str' object does not support item assignment",
     "output_type": "error",
     "traceback": [
      "\u001b[1;31m---------------------------------------------------------------------------\u001b[0m",
      "\u001b[1;31mTypeError\u001b[0m                                 Traceback (most recent call last)",
      "Cell \u001b[1;32mIn[28], line 2\u001b[0m\n\u001b[0;32m      1\u001b[0m string1\u001b[38;5;241m=\u001b[39m\u001b[38;5;124m'\u001b[39m\u001b[38;5;124mwelcome\u001b[39m\u001b[38;5;124m'\u001b[39m\n\u001b[1;32m----> 2\u001b[0m string1[\u001b[38;5;241m2\u001b[39m]\u001b[38;5;241m=\u001b[39m\u001b[38;5;124m'\u001b[39m\u001b[38;5;124ml\u001b[39m\u001b[38;5;124m'\u001b[39m\n",
      "\u001b[1;31mTypeError\u001b[0m: 'str' object does not support item assignment"
     ]
    }
   ],
   "source": [
    "string1='welcome'  # string are immutabel\n",
    "string1[2]='l'"
   ]
  },
  {
   "cell_type": "code",
   "execution_count": 29,
   "id": "81168407",
   "metadata": {},
   "outputs": [
    {
     "data": {
      "text/plain": [
       "[100, 'b', 'c']"
      ]
     },
     "execution_count": 29,
     "metadata": {},
     "output_type": "execute_result"
    }
   ],
   "source": [
    "list1=['a','b','c']\n",
    "list1[0]=100\n",
    "list1"
   ]
  },
  {
   "cell_type": "code",
   "execution_count": null,
   "id": "45640cde",
   "metadata": {},
   "outputs": [],
   "source": []
  }
 ],
 "metadata": {
  "kernelspec": {
   "display_name": "Python 3 (ipykernel)",
   "language": "python",
   "name": "python3"
  },
  "language_info": {
   "codemirror_mode": {
    "name": "ipython",
    "version": 3
   },
   "file_extension": ".py",
   "mimetype": "text/x-python",
   "name": "python",
   "nbconvert_exporter": "python",
   "pygments_lexer": "ipython3",
   "version": "3.11.5"
  }
 },
 "nbformat": 4,
 "nbformat_minor": 5
}
