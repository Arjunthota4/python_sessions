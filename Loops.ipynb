{
 "cells": [
  {
   "cell_type": "markdown",
   "id": "8142eae0",
   "metadata": {},
   "source": [
    "for loop"
   ]
  },
  {
   "cell_type": "markdown",
   "id": "4dc72fca",
   "metadata": {},
   "source": [
    "- when we enter into the loop\n",
    "- how much time you will be in the loop\n",
    "- how will you come out if the loop"
   ]
  },
  {
   "cell_type": "markdown",
   "id": "c4188b64",
   "metadata": {},
   "source": [
    "- intiliztion\n",
    "- increment/decrement\n",
    "- condition to stop the loop"
   ]
  },
  {
   "cell_type": "code",
   "execution_count": 17,
   "id": "1dd735b9",
   "metadata": {},
   "outputs": [
    {
     "name": "stdout",
     "output_type": "stream",
     "text": [
      "0\n",
      "1\n",
      "2\n",
      "3\n",
      "4\n",
      "5\n",
      "6\n",
      "7\n",
      "8\n",
      "9\n"
     ]
    }
   ],
   "source": [
    "for i in range(10):\n",
    "    print(i)\n"
   ]
  },
  {
   "cell_type": "code",
   "execution_count": 18,
   "id": "3ed90778",
   "metadata": {},
   "outputs": [
    {
     "name": "stdout",
     "output_type": "stream",
     "text": [
      "0\n",
      "1\n",
      "2\n"
     ]
    }
   ],
   "source": [
    "print(0)\n",
    "print(1)\n",
    "print(2)"
   ]
  },
  {
   "cell_type": "code",
   "execution_count": 22,
   "id": "d5e26c10",
   "metadata": {},
   "outputs": [
    {
     "name": "stdout",
     "output_type": "stream",
     "text": [
      "0  1  2\n"
     ]
    }
   ],
   "source": [
    "print(0,end='  ')\n",
    "print(1,end='  ')\n",
    "print(2)"
   ]
  },
  {
   "cell_type": "code",
   "execution_count": 23,
   "id": "50c4aed2",
   "metadata": {},
   "outputs": [
    {
     "name": "stdout",
     "output_type": "stream",
     "text": [
      "0  1  2  3  4  5  6  7  8  9  "
     ]
    }
   ],
   "source": [
    "for i in range(10):\n",
    "    print(i,end='  ')"
   ]
  },
  {
   "cell_type": "code",
   "execution_count": 28,
   "id": "ad394011",
   "metadata": {},
   "outputs": [
    {
     "name": "stdout",
     "output_type": "stream",
     "text": [
      "10 11 12 13 14 15 16 17 18 19 "
     ]
    }
   ],
   "source": [
    "for i  in range(10,20):\n",
    "    print(i,end=' ')"
   ]
  },
  {
   "cell_type": "code",
   "execution_count": 29,
   "id": "22c4b419",
   "metadata": {},
   "outputs": [
    {
     "name": "stdout",
     "output_type": "stream",
     "text": [
      "2 3 4 5 6 "
     ]
    }
   ],
   "source": [
    "for i  in range(2,7):\n",
    "    print(i,end=' ')"
   ]
  },
  {
   "cell_type": "markdown",
   "id": "bd4aa78a",
   "metadata": {},
   "source": [
    "- Pattern1"
   ]
  },
  {
   "cell_type": "code",
   "execution_count": 30,
   "id": "b742d1f4",
   "metadata": {},
   "outputs": [
    {
     "name": "stdout",
     "output_type": "stream",
     "text": [
      "0  1  2  3  4  5  6  7  8  9  "
     ]
    }
   ],
   "source": [
    "for i in range(10):\n",
    "    print(i,end='  ')"
   ]
  },
  {
   "cell_type": "markdown",
   "id": "06e4214e",
   "metadata": {},
   "source": [
    "- Pattern2"
   ]
  },
  {
   "cell_type": "code",
   "execution_count": 31,
   "id": "21a9f3e0",
   "metadata": {},
   "outputs": [
    {
     "name": "stdout",
     "output_type": "stream",
     "text": [
      "10 11 12 13 14 15 16 17 18 19 "
     ]
    }
   ],
   "source": [
    "for i  in range(10,20):\n",
    "    print(i,end=' ')"
   ]
  },
  {
   "cell_type": "markdown",
   "id": "359ce2a9",
   "metadata": {},
   "source": [
    "- pattern3"
   ]
  },
  {
   "cell_type": "code",
   "execution_count": 34,
   "id": "dcecc55a",
   "metadata": {},
   "outputs": [
    {
     "name": "stdout",
     "output_type": "stream",
     "text": [
      "2 5 8 11 14 17 "
     ]
    }
   ],
   "source": [
    "for i  in range(2,20,3):\n",
    "    print(i,end=' ')"
   ]
  },
  {
   "cell_type": "code",
   "execution_count": 36,
   "id": "9afdecda",
   "metadata": {},
   "outputs": [
    {
     "name": "stdout",
     "output_type": "stream",
     "text": [
      "2 4 6 8 10 12 14 16 18 20 22 24 26 28 "
     ]
    }
   ],
   "source": [
    "for i  in range(2,30,2):\n",
    "    print(i,end=' ')"
   ]
  },
  {
   "cell_type": "code",
   "execution_count": 38,
   "id": "e42fc08a",
   "metadata": {},
   "outputs": [
    {
     "name": "stdout",
     "output_type": "stream",
     "text": [
      "-2 -4 -6 -8 -10 -12 -14 -16 -18 -20 -22 -24 -26 -28 "
     ]
    }
   ],
   "source": [
    "for i  in range(-2,-30,-2):\n",
    "    print(i,end=' ')"
   ]
  },
  {
   "cell_type": "code",
   "execution_count": 41,
   "id": "f4fe4d7f",
   "metadata": {},
   "outputs": [],
   "source": [
    "for i  in range(-2,-30,2):\n",
    "    print(i,end=' ')\n",
    "#not possible"
   ]
  },
  {
   "cell_type": "code",
   "execution_count": 42,
   "id": "3eab177d",
   "metadata": {},
   "outputs": [
    {
     "data": {
      "text/plain": [
       "range(3, -25, -3)"
      ]
     },
     "execution_count": 42,
     "metadata": {},
     "output_type": "execute_result"
    }
   ],
   "source": []
  },
  {
   "cell_type": "code",
   "execution_count": 2,
   "id": "6bd25bea",
   "metadata": {},
   "outputs": [
    {
     "name": "stdout",
     "output_type": "stream",
     "text": [
      "hello\n",
      "hello\n",
      "hello\n",
      "hello\n"
     ]
    }
   ],
   "source": [
    "for i in range(4):\n",
    "    print(\"hello\")"
   ]
  },
  {
   "cell_type": "code",
   "execution_count": 4,
   "id": "1d4b9399",
   "metadata": {},
   "outputs": [
    {
     "name": "stdout",
     "output_type": "stream",
     "text": [
      "hi\n",
      "hello\n",
      "hello\n",
      "hello\n",
      "hello\n",
      "how are you\n"
     ]
    }
   ],
   "source": [
    "print(\"hi\")\n",
    "for i in range(4):\n",
    "    print(\"hello\")\n",
    "print(\"how are you\")"
   ]
  },
  {
   "cell_type": "code",
   "execution_count": 7,
   "id": "c8f2c81c",
   "metadata": {},
   "outputs": [
    {
     "name": "stdout",
     "output_type": "stream",
     "text": [
      "A\n",
      "A\n",
      "A\n",
      "B\n",
      "B\n",
      "B\n",
      "C\n",
      "C\n"
     ]
    }
   ],
   "source": [
    "for i in range(3):\n",
    "    print(\"A\")\n",
    "for i in range(3):\n",
    "    print(\"B\")\n",
    "for i in range(2):\n",
    "    print(\"C\")"
   ]
  },
  {
   "cell_type": "code",
   "execution_count": 8,
   "id": "de82ee74",
   "metadata": {},
   "outputs": [
    {
     "name": "stdout",
     "output_type": "stream",
     "text": [
      "A\n",
      "B\n",
      "A\n",
      "B\n",
      "A\n",
      "B\n",
      "C\n",
      "C\n",
      "C\n"
     ]
    }
   ],
   "source": [
    "for i in range(3):\n",
    "    print(\"A\")\n",
    "    print(\"B\")\n",
    "for i in range(3):\n",
    "    print(\"C\")"
   ]
  },
  {
   "cell_type": "code",
   "execution_count": null,
   "id": "0e5e6957",
   "metadata": {},
   "outputs": [],
   "source": [
    "#wap ask a user to get square of the number b/w 10 to 15\n",
    "# square of 10 is 100\n",
    "# square of 11 is 121\n",
    "# square of 12 is 144"
   ]
  },
  {
   "cell_type": "code",
   "execution_count": 13,
   "id": "6729b0f4",
   "metadata": {},
   "outputs": [
    {
     "name": "stdout",
     "output_type": "stream",
     "text": [
      "The square of the number10 10 is100\n",
      "The square of the number11 10 is121\n",
      "The square of the number12 10 is144\n",
      "The square of the number13 10 is169\n",
      "The square of the number14 10 is196\n",
      "The square of the number15 10 is225\n"
     ]
    }
   ],
   "source": [
    "for i in range(10,16):\n",
    "    print(\"The square of the number{} 10 is{}\".format(i,i*i))\n",
    "    "
   ]
  },
  {
   "cell_type": "code",
   "execution_count": 15,
   "id": "50bca16a",
   "metadata": {},
   "outputs": [
    {
     "name": "stdout",
     "output_type": "stream",
     "text": [
      "enter the start number10\n",
      "enter the stop number16\n",
      "The square of the number10 10 is100\n",
      "The square of the number11 10 is121\n",
      "The square of the number12 10 is144\n",
      "The square of the number13 10 is169\n",
      "The square of the number14 10 is196\n",
      "The square of the number15 10 is225\n"
     ]
    }
   ],
   "source": [
    "num1=eval(input(\"enter the start number\"))\n",
    "num2=eval(input(\"enter the stop number\"))\n",
    "for i in range(num1,num2):\n",
    "    print(\"The square of the number{} 10 is{}\".format(i,i*i))\n",
    "    "
   ]
  },
  {
   "cell_type": "code",
   "execution_count": null,
   "id": "b0054c93",
   "metadata": {},
   "outputs": [],
   "source": [
    "#wap ask a user print the given number os even or odd\n",
    "# need to tke the numbers b/w 10 to 30"
   ]
  },
  {
   "cell_type": "code",
   "execution_count": 20,
   "id": "a69b2dc5",
   "metadata": {},
   "outputs": [
    {
     "name": "stdout",
     "output_type": "stream",
     "text": [
      "10 is even number\n",
      "11 is odd number\n",
      "12 is even number\n",
      "13 is odd number\n",
      "14 is even number\n",
      "15 is odd number\n",
      "16 is even number\n",
      "17 is odd number\n",
      "18 is even number\n",
      "19 is odd number\n",
      "20 is even number\n",
      "21 is odd number\n",
      "22 is even number\n",
      "23 is odd number\n",
      "24 is even number\n",
      "25 is odd number\n",
      "26 is even number\n",
      "27 is odd number\n",
      "28 is even number\n",
      "29 is odd number\n"
     ]
    }
   ],
   "source": [
    "for i in range(10,30):\n",
    "    if i%2==0:\n",
    "        print(\"{} is even number\".format(i))\n",
    "    else:\n",
    "        print(\"{} is odd number\".format(i))"
   ]
  },
  {
   "cell_type": "code",
   "execution_count": 27,
   "id": "b2173c05",
   "metadata": {},
   "outputs": [
    {
     "name": "stdout",
     "output_type": "stream",
     "text": [
      "28 is even number\n",
      "16 is even number\n",
      "28 is even number\n",
      "20 is even number\n",
      "14 is even number\n",
      "11 is odd number\n"
     ]
    }
   ],
   "source": [
    "import random\n",
    "for i in range(6):\n",
    "    num1=random.randint(10,30)\n",
    "    if num1%2==0:\n",
    "        print(\"{} is even number\".format(num1))\n",
    "    else:\n",
    "        print(\"{} is odd number\".format(num1))"
   ]
  },
  {
   "cell_type": "code",
   "execution_count": 34,
   "id": "5661b5fa",
   "metadata": {},
   "outputs": [
    {
     "name": "stdout",
     "output_type": "stream",
     "text": [
      "enter the number3\n",
      "we lost\n",
      "enter the number5\n",
      "we lost\n",
      "enter the number8\n",
      "we lost\n",
      "9\n"
     ]
    }
   ],
   "source": [
    "import random\n",
    "num1=random.randint(1,10)\n",
    "for i in range(3):\n",
    "    num2=eval(input(\"enter the number\"))\n",
    "    if num1==num2:\n",
    "        print(\"we won\")\n",
    "    else:\n",
    "        print(\"we lost\")\n",
    "print(num1)\n"
   ]
  },
  {
   "cell_type": "code",
   "execution_count": 8,
   "id": "d813e950",
   "metadata": {},
   "outputs": [
    {
     "name": "stdout",
     "output_type": "stream",
     "text": [
      "the summ of 10 natural numbers are 55\n"
     ]
    }
   ],
   "source": [
    "# wap ask the user get the sum of 10 natural numbers\n",
    "summ=0\n",
    "for i in range(1,11):\n",
    "    summ=summ+i\n",
    "print(\"the summ of 10 natural numbers are {}\".format(summ))\n",
    "    "
   ]
  },
  {
   "cell_type": "code",
   "execution_count": 11,
   "id": "0bcafad9",
   "metadata": {},
   "outputs": [
    {
     "name": "stdout",
     "output_type": "stream",
     "text": [
      "13 is odd\n",
      "15 is odd\n",
      "29 is odd\n",
      "19 is odd\n",
      "12 is even\n",
      "no.of even numbers are 1\n",
      "no.of even numbers are 4\n"
     ]
    }
   ],
   "source": [
    "import random\n",
    "even=0\n",
    "odd=0\n",
    "for i in range(5):\n",
    "    num=random.randint(10,30)\n",
    "    if num%2==0:\n",
    "        even=even+1\n",
    "        print(\"{} is even\".format(num))\n",
    "    else:\n",
    "        odd=odd+1\n",
    "        print(\"{} is odd\".format(num))\n",
    "print(\"no.of even numbers are {}\".format(even))\n",
    "print(\"no.of even numbers are {}\".format(odd))"
   ]
  },
  {
   "cell_type": "code",
   "execution_count": 14,
   "id": "b8616868",
   "metadata": {},
   "outputs": [
    {
     "name": "stdout",
     "output_type": "stream",
     "text": [
      "56 is greater then 50 \n",
      "37 is less then 50\n",
      "28 is less then 50\n",
      "54 is greater then 50 \n",
      "56 is greater then 50 \n",
      "43 is less then 50\n",
      "42 is less then 50\n",
      "61 is greater then 50 \n",
      "45 is less then 50\n",
      "52 is greater then 50 \n",
      "the number of values more then 50 are 5\n"
     ]
    }
   ],
   "source": [
    "#wap ask the user take a number b/w 1 t0 99\n",
    "# iterate is 10 timers\n",
    "import random\n",
    "count=0\n",
    "for i in range(10):\n",
    "    num=random.randint(1,99)\n",
    "    if num>50:\n",
    "        count=count+1\n",
    "        print(\"{} is greater then 50 \".format(num))\n",
    "    else:\n",
    "        print(\"{} is less then 50\".format(num))\n",
    "print(\"the number of values more then 50 are {}\".format(count))"
   ]
  },
  {
   "cell_type": "markdown",
   "id": "1431f822",
   "metadata": {},
   "source": [
    "# while loop"
   ]
  },
  {
   "cell_type": "code",
   "execution_count": 1,
   "id": "904e36cb",
   "metadata": {},
   "outputs": [],
   "source": [
    "# i want to print 1st 10 numbers 1 to 9\n",
    "# intial point =0\n",
    "#increment\n",
    "#condition:when i see 9 then i will stop"
   ]
  },
  {
   "cell_type": "code",
   "execution_count": 3,
   "id": "438b4c4b",
   "metadata": {},
   "outputs": [
    {
     "ename": "SyntaxError",
     "evalue": "invalid syntax (1364768181.py, line 5)",
     "output_type": "error",
     "traceback": [
      "\u001b[1;36m  Cell \u001b[1;32mIn[3], line 5\u001b[1;36m\u001b[0m\n\u001b[1;33m    while <condition>:\u001b[0m\n\u001b[1;37m          ^\u001b[0m\n\u001b[1;31mSyntaxError\u001b[0m\u001b[1;31m:\u001b[0m invalid syntax\n"
     ]
    }
   ],
   "source": [
    "#wrapper\n",
    "\n",
    "i=0 #intial point\n",
    "\n",
    "while <condition>:\n",
    "    #Sta1\n",
    "    #sta2\n",
    "    \n",
    "    i=i+1"
   ]
  },
  {
   "cell_type": "code",
   "execution_count": 4,
   "id": "94d066b0",
   "metadata": {},
   "outputs": [
    {
     "name": "stdout",
     "output_type": "stream",
     "text": [
      "0 1 2 3 4 5 6 7 8 9 "
     ]
    }
   ],
   "source": [
    "# i want to print 1st 10 numbers 1 to 9\n",
    "for i in range(10):\n",
    "    print(i,end=\" \")"
   ]
  },
  {
   "cell_type": "code",
   "execution_count": 8,
   "id": "907faac5",
   "metadata": {},
   "outputs": [
    {
     "ename": "SyntaxError",
     "evalue": "invalid syntax (1871279111.py, line 2)",
     "output_type": "error",
     "traceback": [
      "\u001b[1;36m  Cell \u001b[1;32mIn[8], line 2\u001b[1;36m\u001b[0m\n\u001b[1;33m    while\u001b[0m\n\u001b[1;37m         ^\u001b[0m\n\u001b[1;31mSyntaxError\u001b[0m\u001b[1;31m:\u001b[0m invalid syntax\n"
     ]
    }
   ],
   "source": [
    "i=0\n",
    "while\n",
    "    print(i,end=\" \")\n",
    "    i=i+1"
   ]
  },
  {
   "cell_type": "code",
   "execution_count": 11,
   "id": "605b8197",
   "metadata": {},
   "outputs": [
    {
     "name": "stdout",
     "output_type": "stream",
     "text": [
      "enter a number4\n",
      "the square of 4 is 16\n",
      "enter a number2\n",
      "the square of 2 is 4\n",
      "enter a number1\n",
      "the square of 1 is 1\n",
      "enter a number4\n",
      "the square of 4 is 16\n",
      "enter a number2\n",
      "the square of 2 is 4\n"
     ]
    }
   ],
   "source": [
    "#ask user enter a number 5 times\n",
    "#print the square of the number\n",
    "for i in range(5):\n",
    "    num=eval(input(\"enter a number\"))\n",
    "    print(\"the square of {} is {}\".format(num,num*num))"
   ]
  },
  {
   "cell_type": "code",
   "execution_count": 13,
   "id": "468befcc",
   "metadata": {
    "scrolled": true
   },
   "outputs": [
    {
     "name": "stdout",
     "output_type": "stream",
     "text": [
      "enter a number4\n",
      "the square of 4 is 16\n",
      "enter a number3\n",
      "the square of 3 is 9\n",
      "enter a number2\n",
      "the square of 2 is 4\n",
      "enter a number1\n",
      "the square of 1 is 1\n",
      "enter a number4\n",
      "the square of 4 is 16\n"
     ]
    }
   ],
   "source": [
    "#while loop method\n",
    "i=0\n",
    "while i<5:\n",
    "    num=eval(input(\"enter a number\"))\n",
    "    print(\"the square of {} is {}\".format(num,num*num))\n",
    "    i=i+1"
   ]
  },
  {
   "cell_type": "code",
   "execution_count": 17,
   "id": "7880ddc9",
   "metadata": {},
   "outputs": [
    {
     "name": "stdout",
     "output_type": "stream",
     "text": [
      "the square of 17 is 289\n",
      "the square of 18 is 324\n",
      "the square of 19 is 361\n",
      "the square of 12 is 144\n",
      "the square of 12 is 144\n"
     ]
    }
   ],
   "source": [
    "import random\n",
    "i=0\n",
    "while i<5:\n",
    "    num=random.randint(10,20)\n",
    "    print(\"the square of {} is {}\".format(num,num*num))\n",
    "    i=i+1"
   ]
  },
  {
   "cell_type": "code",
   "execution_count": 19,
   "id": "a72d4471",
   "metadata": {},
   "outputs": [
    {
     "name": "stdout",
     "output_type": "stream",
     "text": [
      "10 is even number\n",
      "11 is odd number\n",
      "12 is even number\n",
      "13 is odd number\n",
      "14 is even number\n",
      "15 is odd number\n",
      "16 is even number\n",
      "17 is odd number\n",
      "18 is even number\n",
      "19 is odd number\n",
      "20 is even number\n"
     ]
    }
   ],
   "source": [
    "i=10\n",
    "while i<21:\n",
    "    if i%2 ==0:\n",
    "        print(\"{} is even number\".format(i))\n",
    "    else:\n",
    "        print(\"{} is odd number\".format(i))\n",
    "    i=i+1\n",
    "\n",
    "        "
   ]
  },
  {
   "cell_type": "code",
   "execution_count": 27,
   "id": "747f51b9",
   "metadata": {},
   "outputs": [
    {
     "name": "stdout",
     "output_type": "stream",
     "text": [
      "55\n"
     ]
    }
   ],
   "source": [
    "summ=0\n",
    "for i in range(1,11):\n",
    "    summ+=i\n",
    "print(summ)\n",
    "    \n",
    "    \n"
   ]
  },
  {
   "cell_type": "markdown",
   "id": "d9c38d82",
   "metadata": {},
   "source": []
  },
  {
   "cell_type": "code",
   "execution_count": 31,
   "id": "731bad04",
   "metadata": {},
   "outputs": [
    {
     "name": "stdout",
     "output_type": "stream",
     "text": [
      "55\n"
     ]
    }
   ],
   "source": [
    "i=1\n",
    "summ=0\n",
    "while i<11:\n",
    "    summ+=i\n",
    "    i=i+1\n",
    "    \n",
    "print(summ)"
   ]
  },
  {
   "cell_type": "code",
   "execution_count": null,
   "id": "c77fa48b",
   "metadata": {},
   "outputs": [],
   "source": [
    "import random\n"
   ]
  }
 ],
 "metadata": {
  "kernelspec": {
   "display_name": "Python 3 (ipykernel)",
   "language": "python",
   "name": "python3"
  },
  "language_info": {
   "codemirror_mode": {
    "name": "ipython",
    "version": 3
   },
   "file_extension": ".py",
   "mimetype": "text/x-python",
   "name": "python",
   "nbconvert_exporter": "python",
   "pygments_lexer": "ipython3",
   "version": "3.11.5"
  }
 },
 "nbformat": 4,
 "nbformat_minor": 5
}
