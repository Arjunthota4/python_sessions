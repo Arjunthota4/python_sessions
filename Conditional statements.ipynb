{
 "cells": [
  {
   "cell_type": "markdown",
   "id": "74d7fded",
   "metadata": {},
   "source": [
    "# Conditional statements"
   ]
  },
  {
   "cell_type": "code",
   "execution_count": 4,
   "id": "213d3e59",
   "metadata": {},
   "outputs": [
    {
     "ename": "SyntaxError",
     "evalue": "invalid syntax. Maybe you meant '==' or ':=' instead of '='? (2559551475.py, line 2)",
     "output_type": "error",
     "traceback": [
      "\u001b[1;36m  Cell \u001b[1;32mIn[4], line 2\u001b[1;36m\u001b[0m\n\u001b[1;33m    if name=\"python\";\u001b[0m\n\u001b[1;37m       ^\u001b[0m\n\u001b[1;31mSyntaxError\u001b[0m\u001b[1;31m:\u001b[0m invalid syntax. Maybe you meant '==' or ':=' instead of '='?\n"
     ]
    }
   ],
   "source": [
    "name=\"python\"\n",
    "if name=\"python\";\n",
    "   print=(\"won\")"
   ]
  },
  {
   "cell_type": "code",
   "execution_count": null,
   "id": "b4a9e6e0",
   "metadata": {},
   "outputs": [],
   "source": [
    "#false case\n",
    "name=\"python\"\n",
    "if name=="
   ]
  },
  {
   "cell_type": "code",
   "execution_count": 8,
   "id": "dc05c0e0",
   "metadata": {},
   "outputs": [
    {
     "name": "stdout",
     "output_type": "stream",
     "text": [
      "lost\n"
     ]
    }
   ],
   "source": [
    "name='PYTHON'\n",
    "if name==\"python\":\n",
    "    print(\"won\")\n",
    "else:\n",
    "    print(\"lost\")"
   ]
  },
  {
   "cell_type": "code",
   "execution_count": 1,
   "id": "26218a3d",
   "metadata": {},
   "outputs": [
    {
     "name": "stdout",
     "output_type": "stream",
     "text": [
      "hello\n",
      "10\n",
      "enter a number10\n",
      "enter a number10\n",
      "this is a true case\n",
      "we are doing addition\n",
      "the addition of 10 and 10 is 20\n",
      "happy ending\n",
      "substraction 0\n",
      "great\n"
     ]
    }
   ],
   "source": [
    "print(\"hello\")\n",
    "print(10)\n",
    "num1=eval(input(\"enter a number\"))\n",
    "num2=eval(input(\"enter a number\"))\n",
    "if num1==num2:\n",
    "    print(\"this is a true case\")\n",
    "    print(\"we are doing addition\")\n",
    "    print(\"the addition of {} and {} is {}\".format(num1,num2,num1+num2))\n",
    "    print(\"happy ending\")\n",
    "else:\n",
    "    print(\"this is false case \")\n",
    "    print(\"we are doing multiplication\")\n",
    "    print(\"the multiplication of {} and {} is {}\". formt(num1,num1,num1*num2))\n",
    "    print(\"happy ending\")\n",
    "sub=num1-num2\n",
    "print(\"substraction\",sub)\n",
    "print(\"great\")\n"
   ]
  },
  {
   "cell_type": "code",
   "execution_count": 7,
   "id": "60ecce0b",
   "metadata": {},
   "outputs": [
    {
     "name": "stdout",
     "output_type": "stream",
     "text": [
      "enter the distance(in km)100\n",
      " charge is 100\n"
     ]
    }
   ],
   "source": [
    "x=eval(input(\"enter the distance(in km)\")) \n",
    "if x>10:\n",
    "    print(\" charge is 100\")\n",
    "elif x>=7:\n",
    "    print(\" charge is 70\")\n",
    "elif x>=4:\n",
    "    print(\" charge is 40\")\n",
    "else:\n",
    "    print(\" charge is 30\")"
   ]
  },
  {
   "cell_type": "code",
   "execution_count": 13,
   "id": "802a0ada",
   "metadata": {},
   "outputs": [
    {
     "name": "stdout",
     "output_type": "stream",
     "text": [
      "enter the salary700000\n",
      "enter the percentage5\n",
      "amount of tax paid 35000.0\n"
     ]
    }
   ],
   "source": [
    "x=eval(input(\"enter the salary\")) \n",
    "if x>1000000:\n",
    "    y=eval(input(\"enter the percentage\")) \n",
    "    print(\"amount of tax paid is {}\".format(y/100*x))\n",
    "elif x>=700000:\n",
    "    y=eval(input(\"enter the percentage\")) \n",
    "    print(\"amount of tax paid {}\".format(y/100*x))\n",
    "elif x>=400000:\n",
    "    y=eval(input(\"enter the percentage\")) \n",
    "    print(\"amount of tax paid {}\".format(y/100*x))\n",
    "else:\n",
    "    print(\"no tax required\")"
   ]
  },
  {
   "cell_type": "code",
   "execution_count": 14,
   "id": "a9b80e7c",
   "metadata": {},
   "outputs": [
    {
     "name": "stdout",
     "output_type": "stream",
     "text": [
      "enter the salary500000\n",
      "enter the percentage10\n",
      "amount of tax paid is 50000.0\n"
     ]
    }
   ],
   "source": [
    "x=eval(input(\"enter the salary\")) \n",
    "y=eval(input(\"enter the percentage\")) \n",
    "print(\"amount of tax paid is {}\".format(y/100*x))"
   ]
  },
  {
   "cell_type": "code",
   "execution_count": 24,
   "id": "6754b7fc",
   "metadata": {},
   "outputs": [
    {
     "name": "stdout",
     "output_type": "stream",
     "text": [
      "operation to performdiv\n",
      "enter the number100\n",
      "enter the number5\n",
      "div operation\n",
      "div of numbers20.0\n"
     ]
    }
   ],
   "source": [
    "x=input(\"operation to perform\")\n",
    "x1=eval(input(\"enter the number\"))\n",
    "x2=eval(input(\"enter the number\"))\n",
    "if x==\"addition\":\n",
    "    print(\"addition operation\")\n",
    "    print(\"addition of numbers{}\".format(x1+x2))\n",
    "elif x==\"multiplication\":\n",
    "    print(\"multiplication operation\")\n",
    "    print(\"multiplication of numbers{}\".format(x1*x2))\n",
    "elif x==\"sub\":\n",
    "    print(\"sub operation\")\n",
    "    print(\"sub of numbers{}\".format(x1-x2))\n",
    "elif x==\"div\":\n",
    "    print(\"div operation\")\n",
    "    print(\"div of numbers{}\".format(x1/x2))\n",
    "else:\n",
    "    print(\"provide suitable operation\")\n",
    "    "
   ]
  },
  {
   "cell_type": "code",
   "execution_count": 27,
   "id": "cc49c6bf",
   "metadata": {},
   "outputs": [
    {
     "name": "stdout",
     "output_type": "stream",
     "text": [
      "operation to performdiv\n",
      "operation to performdiv\n",
      "enter the number1000\n",
      "enter the number60\n",
      "div operation\n",
      "div of numbers16.666666666666668\n"
     ]
    }
   ],
   "source": [
    "try:\n",
    "    x=input(\"operation to perform\")\n",
    "    x=input(\"operation to perform\")\n",
    "    x1=eval(input(\"enter the number\"))\n",
    "    x2=eval(input(\"enter the number\"))\n",
    "    if x==\"addition\":\n",
    "        print(\"addition operation\")\n",
    "        print(\"addition of numbers{}\".format(x1+x2))\n",
    "    elif x==\"multiplication\":\n",
    "        print(\"multiplication operation\")\n",
    "        print(\"multiplication of numbers{}\".format(x1*x2))\n",
    "    elif x==\"sub\":\n",
    "        print(\"sub operation\")\n",
    "        print(\"sub of numbers{}\".format(x1-x2))\n",
    "    elif x==\"div\":\n",
    "        print(\"div operation\")\n",
    "        print(\"div of numbers{}\".format(x1/x2))\n",
    "    else:\n",
    "        print(\"provide suitable operation\")\n",
    "except Exception as e:\n",
    "    print (e)\n"
   ]
  },
  {
   "cell_type": "markdown",
   "id": "5b0af3a5",
   "metadata": {},
   "source": [
    "# Nested if else"
   ]
  },
  {
   "cell_type": "code",
   "execution_count": 29,
   "id": "635bff1d",
   "metadata": {},
   "outputs": [
    {
     "name": "stdout",
     "output_type": "stream",
     "text": [
      "enter the number-5\n",
      "the number is neg\n"
     ]
    }
   ],
   "source": [
    "x=eval(input(\"enter the number\")) \n",
    "if x>=0:\n",
    "    if x==0:\n",
    "        print(\"the number is zero\")\n",
    "    else:\n",
    "        print(\"the number is pos\")\n",
    "else:\n",
    "    print(\"the number is neg\")\n",
    "\n",
    "    \n"
   ]
  },
  {
   "cell_type": "code",
   "execution_count": 44,
   "id": "7877e9db",
   "metadata": {},
   "outputs": [
    {
     "name": "stdout",
     "output_type": "stream",
     "text": [
      "enter the gender(male or female):ub\n",
      "dygdu8d\n"
     ]
    }
   ],
   "source": [
    "x=input(\"enter the gender(male or female):\")\n",
    "if x== \"male\":\n",
    "    y=eval(input(\"enter the age:\"))\n",
    "    if y>=60:\n",
    "        print(\"SC\")\n",
    "    elif y>=30:\n",
    "        print(\"MAM\")\n",
    "    elif y>=20:\n",
    "        print(\"ADULT\")\n",
    "    elif y>=13:\n",
    "        print(\"TG\")\n",
    "    else:\n",
    "        print(\"child\")\n",
    "elif x == \"female\":\n",
    "    y=eval(input(\"enter the age:\"))\n",
    "    if y>=60:\n",
    "        print(\"SC\")\n",
    "    elif y>=30:\n",
    "        print(\"MAM\")\n",
    "    elif y>=20:\n",
    "        print(\"ADULT\")\n",
    "    elif y>=13:\n",
    "        print(\"TG\")\n",
    "    else:\n",
    "        print(\"child\")\n",
    "else:\n",
    "    print(\"dygdu8d\")"
   ]
  },
  {
   "cell_type": "code",
   "execution_count": null,
   "id": "e90ac55a",
   "metadata": {},
   "outputs": [],
   "source": []
  }
 ],
 "metadata": {
  "kernelspec": {
   "display_name": "Python 3 (ipykernel)",
   "language": "python",
   "name": "python3"
  },
  "language_info": {
   "codemirror_mode": {
    "name": "ipython",
    "version": 3
   },
   "file_extension": ".py",
   "mimetype": "text/x-python",
   "name": "python",
   "nbconvert_exporter": "python",
   "pygments_lexer": "ipython3",
   "version": "3.11.5"
  }
 },
 "nbformat": 4,
 "nbformat_minor": 5
}
