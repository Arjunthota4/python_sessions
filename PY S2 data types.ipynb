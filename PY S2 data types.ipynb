{
 "cells": [
  {
   "cell_type": "code",
   "execution_count": null,
   "id": "e502d18c",
   "metadata": {},
   "outputs": [],
   "source": [
    "### Data Types\n",
    "-integer              int\n",
    "-float                float\n",
    "-string               str\n",
    "-boolean              bool\n",
    "-comples conjugate    complex"
   ]
  },
  {
   "cell_type": "markdown",
   "id": "bbc61eb0",
   "metadata": {},
   "source": [
    "$integer$"
   ]
  },
  {
   "cell_type": "code",
   "execution_count": 1,
   "id": "38141eeb",
   "metadata": {},
   "outputs": [
    {
     "data": {
      "text/plain": [
       "100"
      ]
     },
     "execution_count": 1,
     "metadata": {},
     "output_type": "execute_result"
    }
   ],
   "source": [
    "number=100\n",
    "number"
   ]
  },
  {
   "cell_type": "code",
   "execution_count": 2,
   "id": "4e50a0e3",
   "metadata": {},
   "outputs": [
    {
     "data": {
      "text/plain": [
       "int"
      ]
     },
     "execution_count": 2,
     "metadata": {},
     "output_type": "execute_result"
    }
   ],
   "source": [
    "#type of the variable:type\n",
    "type(number)"
   ]
  },
  {
   "cell_type": "code",
   "execution_count": null,
   "id": "82d9e8e6",
   "metadata": {},
   "outputs": [],
   "source": [
    "# In maths we have different number system \n",
    "-decimal\n",
    "-binary    \n",
    "-octal\n",
    "-hexa"
   ]
  },
  {
   "cell_type": "code",
   "execution_count": null,
   "id": "25342bc4",
   "metadata": {},
   "outputs": [],
   "source": [
    "***Binary***\n",
    "-Bi means 2\n",
    "-so the base is also 2\n",
    "-0 1 2 3 4 5 6 7 8 9\n",
    "-here we will use only two digits :0 and 1\n",
    "-representation is :0b<combination of 0 and 1\n",
    "-0b11,0b011101"
   ]
  },
  {
   "cell_type": "code",
   "execution_count": 3,
   "id": "6e8a197a",
   "metadata": {},
   "outputs": [
    {
     "data": {
      "text/plain": [
       "7"
      ]
     },
     "execution_count": 3,
     "metadata": {},
     "output_type": "execute_result"
    }
   ],
   "source": [
    "0b111"
   ]
  },
  {
   "cell_type": "code",
   "execution_count": 4,
   "id": "9e4e8129",
   "metadata": {},
   "outputs": [
    {
     "data": {
      "text/plain": [
       "15"
      ]
     },
     "execution_count": 4,
     "metadata": {},
     "output_type": "execute_result"
    }
   ],
   "source": [
    "0b1111"
   ]
  },
  {
   "cell_type": "code",
   "execution_count": null,
   "id": "cd41b480",
   "metadata": {},
   "outputs": [],
   "source": [
    "# 3 digits = 4 2 1 \n",
    "# 4 digits = 8 4 2 1 \n",
    "# 5 digits = 16 8 4 2 1 \n",
    "*************************\n",
    "4  2  1    decimal output\n",
    "**************************\n",
    "0  0  0         0\n",
    "0  0  1         1\n",
    "0  1  0         2\n",
    "0  1  1         3\n",
    "1  0  0         4\n",
    "1  0  1         5\n",
    "1  1  0         6\n",
    "1  1  1         7\n"
   ]
  },
  {
   "cell_type": "code",
   "execution_count": null,
   "id": "ad8c0db3",
   "metadata": {},
   "outputs": [],
   "source": []
  },
  {
   "cell_type": "code",
   "execution_count": null,
   "id": "a5d2e95c",
   "metadata": {},
   "outputs": [],
   "source": [
    "*****************************\n",
    "8  4  2  1    decimal output\n",
    "*******************************\n",
    "0   0  0  0         0\n",
    "0   0  0  1         1\n",
    "0   0  1  0         2\n",
    "0   0  1  1         3\n",
    "0   1  0  0         4\n",
    "0   1  0  1         5\n",
    "0   1  1  0         6\n",
    "0   1  1  1         7\n",
    "1\n",
    "1\n",
    "1\n",
    "1\n",
    "1\n",
    "1\n",
    "1\n",
    "1\n"
   ]
  },
  {
   "cell_type": "code",
   "execution_count": 5,
   "id": "fea45017",
   "metadata": {},
   "outputs": [
    {
     "data": {
      "text/plain": [
       "15"
      ]
     },
     "execution_count": 5,
     "metadata": {},
     "output_type": "execute_result"
    }
   ],
   "source": [
    "0b1111"
   ]
  },
  {
   "cell_type": "markdown",
   "id": "33876796",
   "metadata": {},
   "source": [
    "$octa$"
   ]
  },
  {
   "cell_type": "code",
   "execution_count": null,
   "id": "ea13ce47",
   "metadata": {},
   "outputs": [],
   "source": [
    "***octa***\n",
    "\n",
    "-octa mean 8\n",
    "-so the base is also 8\n",
    "-0 1 2 3 4 5 6 7 8 9"
   ]
  },
  {
   "cell_type": "code",
   "execution_count": 6,
   "id": "bf1aec71",
   "metadata": {},
   "outputs": [
    {
     "ename": "SyntaxError",
     "evalue": "leading zeros in decimal integer literals are not permitted; use an 0o prefix for octal integers (766652192.py, line 1)",
     "output_type": "error",
     "traceback": [
      "\u001b[1;36m  Cell \u001b[1;32mIn[6], line 1\u001b[1;36m\u001b[0m\n\u001b[1;33m    00123\u001b[0m\n\u001b[1;37m    ^\u001b[0m\n\u001b[1;31mSyntaxError\u001b[0m\u001b[1;31m:\u001b[0m leading zeros in decimal integer literals are not permitted; use an 0o prefix for octal integers\n"
     ]
    }
   ],
   "source": [
    "00123"
   ]
  },
  {
   "cell_type": "code",
   "execution_count": 7,
   "id": "d051999e",
   "metadata": {},
   "outputs": [
    {
     "data": {
      "text/plain": [
       "83"
      ]
     },
     "execution_count": 7,
     "metadata": {},
     "output_type": "execute_result"
    }
   ],
   "source": [
    "0o123"
   ]
  },
  {
   "cell_type": "code",
   "execution_count": null,
   "id": "c4ad5c0a",
   "metadata": {},
   "outputs": [],
   "source": [
    "***hexa***\n",
    "-hexa means 16\n",
    "-so the base is also 16\n",
    "-0 1 2 3 4 5 6 7 8 9 A B C D E F\n",
    "-here we will use only 16 digits :( and 9 and A to F )\n",
    "-representation is :0x<0 to 9 ans A to F \n",
    "-0xabc,0x9DF"
   ]
  },
  {
   "cell_type": "code",
   "execution_count": 8,
   "id": "65183cf2",
   "metadata": {},
   "outputs": [
    {
     "data": {
      "text/plain": [
       "2748"
      ]
     },
     "execution_count": 8,
     "metadata": {},
     "output_type": "execute_result"
    }
   ],
   "source": [
    "0xabc"
   ]
  },
  {
   "cell_type": "markdown",
   "id": "6c06601e",
   "metadata": {},
   "source": [
    "$float$\n",
    "\n",
    "$ e representation$"
   ]
  },
  {
   "cell_type": "code",
   "execution_count": 9,
   "id": "60cf583b",
   "metadata": {},
   "outputs": [
    {
     "data": {
      "text/plain": [
       "10000.0"
      ]
     },
     "execution_count": 9,
     "metadata": {},
     "output_type": "execute_result"
    }
   ],
   "source": [
    "10e3"
   ]
  },
  {
   "cell_type": "code",
   "execution_count": 10,
   "id": "5e4670bb",
   "metadata": {},
   "outputs": [
    {
     "data": {
      "text/plain": [
       "0.01"
      ]
     },
     "execution_count": 10,
     "metadata": {},
     "output_type": "execute_result"
    }
   ],
   "source": [
    "10e-3"
   ]
  },
  {
   "cell_type": "code",
   "execution_count": 11,
   "id": "e6f18c13",
   "metadata": {
    "scrolled": true
   },
   "outputs": [
    {
     "data": {
      "text/plain": [
       "0.01"
      ]
     },
     "execution_count": 11,
     "metadata": {},
     "output_type": "execute_result"
    }
   ],
   "source": [
    "1000e-5"
   ]
  },
  {
   "cell_type": "code",
   "execution_count": 12,
   "id": "96c7b60f",
   "metadata": {},
   "outputs": [
    {
     "data": {
      "text/plain": [
       "0.1"
      ]
     },
     "execution_count": 12,
     "metadata": {},
     "output_type": "execute_result"
    }
   ],
   "source": [
    "100e-3"
   ]
  },
  {
   "cell_type": "code",
   "execution_count": 14,
   "id": "1b1b7d25",
   "metadata": {},
   "outputs": [
    {
     "data": {
      "text/plain": [
       "1000.0"
      ]
     },
     "execution_count": 14,
     "metadata": {},
     "output_type": "execute_result"
    }
   ],
   "source": [
    "100e1"
   ]
  },
  {
   "cell_type": "markdown",
   "id": "c96aa6cb",
   "metadata": {},
   "source": [
    "$string$"
   ]
  },
  {
   "cell_type": "code",
   "execution_count": 17,
   "id": "e0b2fc23",
   "metadata": {},
   "outputs": [],
   "source": [
    "name5=\"\"\"hai\n",
    "         how are you\"\"\""
   ]
  },
  {
   "cell_type": "markdown",
   "id": "7a7f2ff4",
   "metadata": {},
   "source": []
  },
  {
   "cell_type": "code",
   "execution_count": 2,
   "id": "f8563349",
   "metadata": {},
   "outputs": [
    {
     "name": "stdout",
     "output_type": "stream",
     "text": [
      "enter a number:6\n",
      "the square of 6 is 36\n"
     ]
    }
   ],
   "source": [
    "num=eval(input(\"enter a number:\"))\n",
    "print(\"the square of {} is {}\".format(num,num*num))\n"
   ]
  },
  {
   "cell_type": "code",
   "execution_count": null,
   "id": "7b2672fe",
   "metadata": {},
   "outputs": [],
   "source": []
  },
  {
   "cell_type": "code",
   "execution_count": null,
   "id": "b1731940",
   "metadata": {},
   "outputs": [],
   "source": []
  },
  {
   "cell_type": "code",
   "execution_count": null,
   "id": "0535b1db",
   "metadata": {},
   "outputs": [],
   "source": []
  },
  {
   "cell_type": "code",
   "execution_count": null,
   "id": "84914b86",
   "metadata": {},
   "outputs": [],
   "source": []
  }
 ],
 "metadata": {
  "kernelspec": {
   "display_name": "Python 3 (ipykernel)",
   "language": "python",
   "name": "python3"
  },
  "language_info": {
   "codemirror_mode": {
    "name": "ipython",
    "version": 3
   },
   "file_extension": ".py",
   "mimetype": "text/x-python",
   "name": "python",
   "nbconvert_exporter": "python",
   "pygments_lexer": "ipython3",
   "version": "3.11.5"
  }
 },
 "nbformat": 4,
 "nbformat_minor": 5
}
